{
 "cells": [
  {
   "cell_type": "code",
   "execution_count": 1,
   "metadata": {
    "scrolled": true
   },
   "outputs": [],
   "source": [
    "# Import API key\n",
    "# from config import api_key\n",
    "\n",
    "# Dependencies and Setup\n",
    "import matplotlib.pyplot as plt\n",
    "import pandas as pd\n",
    "import numpy as np\n",
    "import requests\n",
    "\n",
    "\n",
    "# input File (CSV)\n",
    "input_data_file = \"ViolentCrime2017.csv\"\n"
   ]
  },
  {
   "cell_type": "markdown",
   "metadata": {},
   "source": [
    "## Generate Cities List"
   ]
  },
  {
   "cell_type": "code",
   "execution_count": 2,
   "metadata": {},
   "outputs": [
    {
     "data": {
      "text/html": [
       "<div>\n",
       "<style scoped>\n",
       "    .dataframe tbody tr th:only-of-type {\n",
       "        vertical-align: middle;\n",
       "    }\n",
       "\n",
       "    .dataframe tbody tr th {\n",
       "        vertical-align: top;\n",
       "    }\n",
       "\n",
       "    .dataframe thead th {\n",
       "        text-align: right;\n",
       "    }\n",
       "</style>\n",
       "<table border=\"1\" class=\"dataframe\">\n",
       "  <thead>\n",
       "    <tr style=\"text-align: right;\">\n",
       "      <th></th>\n",
       "      <th>State</th>\n",
       "      <th>City</th>\n",
       "      <th>Population</th>\n",
       "      <th>Violent\r\n",
       "crime</th>\n",
       "      <th>Property\r\n",
       "crime</th>\n",
       "      <th>Violent Crime per pop</th>\n",
       "      <th>Violent crime rate per 100,000 inhabitants</th>\n",
       "      <th>Property crime per pop</th>\n",
       "      <th>Property crime per 100,000 inhabitants</th>\n",
       "    </tr>\n",
       "  </thead>\n",
       "  <tbody>\n",
       "    <tr>\n",
       "      <th>0</th>\n",
       "      <td>Pennsylvania</td>\n",
       "      <td>Erie</td>\n",
       "      <td>98,887</td>\n",
       "      <td>176</td>\n",
       "      <td>959</td>\n",
       "      <td>0</td>\n",
       "      <td>177.98</td>\n",
       "      <td>0.01</td>\n",
       "      <td>969.79</td>\n",
       "    </tr>\n",
       "    <tr>\n",
       "      <th>1</th>\n",
       "      <td>Washington</td>\n",
       "      <td>Renton</td>\n",
       "      <td>100,015</td>\n",
       "      <td>148</td>\n",
       "      <td>2,921</td>\n",
       "      <td>0</td>\n",
       "      <td>147.98</td>\n",
       "      <td>0.03</td>\n",
       "      <td>2920.56</td>\n",
       "    </tr>\n",
       "    <tr>\n",
       "      <th>2</th>\n",
       "      <td>Wisconsin</td>\n",
       "      <td>Kenosha</td>\n",
       "      <td>100,038</td>\n",
       "      <td>141</td>\n",
       "      <td>1,042</td>\n",
       "      <td>0</td>\n",
       "      <td>140.95</td>\n",
       "      <td>0.01</td>\n",
       "      <td>1041.6</td>\n",
       "    </tr>\n",
       "    <tr>\n",
       "      <th>3</th>\n",
       "      <td>Florida</td>\n",
       "      <td>Davie</td>\n",
       "      <td>100612</td>\n",
       "      <td>97</td>\n",
       "      <td>1431</td>\n",
       "      <td>0</td>\n",
       "      <td>96.41</td>\n",
       "      <td>0.01</td>\n",
       "      <td>1422.3</td>\n",
       "    </tr>\n",
       "    <tr>\n",
       "      <th>4</th>\n",
       "      <td>New Jersey</td>\n",
       "      <td>Woodbridge Township</td>\n",
       "      <td>100950</td>\n",
       "      <td>51</td>\n",
       "      <td>802</td>\n",
       "      <td>0</td>\n",
       "      <td>50.52</td>\n",
       "      <td>0.01</td>\n",
       "      <td>794.45</td>\n",
       "    </tr>\n",
       "  </tbody>\n",
       "</table>\n",
       "</div>"
      ],
      "text/plain": [
       "          State                 City Population Violent\\r\\ncrime  \\\n",
       "0  Pennsylvania                 Erie     98,887              176   \n",
       "1    Washington               Renton    100,015              148   \n",
       "2     Wisconsin              Kenosha    100,038              141   \n",
       "3       Florida                Davie     100612               97   \n",
       "4    New Jersey  Woodbridge Township     100950               51   \n",
       "\n",
       "  Property\\r\\ncrime Violent Crime per pop  \\\n",
       "0               959                     0   \n",
       "1             2,921                     0   \n",
       "2             1,042                     0   \n",
       "3              1431                     0   \n",
       "4               802                     0   \n",
       "\n",
       "  Violent crime rate per 100,000 inhabitants Property crime per pop  \\\n",
       "0                                     177.98                   0.01   \n",
       "1                                     147.98                   0.03   \n",
       "2                                     140.95                   0.01   \n",
       "3                                      96.41                   0.01   \n",
       "4                                      50.52                   0.01   \n",
       "\n",
       "  Property crime per 100,000 inhabitants  \n",
       "0                                 969.79  \n",
       "1                                2920.56  \n",
       "2                                 1041.6  \n",
       "3                                 1422.3  \n",
       "4                                 794.45  "
      ]
     },
     "execution_count": 2,
     "metadata": {},
     "output_type": "execute_result"
    }
   ],
   "source": [
    "city_df = pd.read_csv(input_data_file)\n",
    "city_df.head()"
   ]
  },
  {
   "cell_type": "code",
   "execution_count": 9,
   "metadata": {},
   "outputs": [
    {
     "data": {
      "text/plain": [
       "<Response [200]>"
      ]
     },
     "execution_count": 9,
     "metadata": {},
     "output_type": "execute_result"
    }
   ],
   "source": [
    "baseurl = \"https://ucr.fbi.gov/crime-in-the-u.s/2017/crime-in-the-u.s.-2017/tables/table-8/table-8-state-cuts/\"\n",
    "\n",
    "testurl = \"https://ucr.fbi.gov/crime-in-the-u.s/2017/crime-in-the-u.s.-2017/tables/table-8/table-8-state-cuts/alabama.xls\"\n",
    "response = requests.get(testurl)\n",
    "response\n",
    "\n",
    "# weather_list = []\n",
    "\n",
    "# record_id = 0\n",
    "# set_id = 1\n",
    "\n",
    "# for city in cities:  \n",
    "    \n",
    "#     if record_id<49:\n",
    "#         record_id += 1\n",
    "#     else: \n",
    "#         record_id = 0\n",
    "#         set_id += 1\n",
    "    \n",
    "#     print(f\"Processing Record {record_id} of Set {set_id} | {city}.\")\n",
    "#     params = {\"units\": \"imperial\", \n",
    "#               \"appid\": api_key,\n",
    "#               \"q\":city}\n",
    "#     try:\n",
    "#         response = requests.get(baseurl,params=params)\n",
    "#         if response.status_code == requests.codes.ok:\n",
    "#             weather_list.append(response.json())\n",
    "#         else:\n",
    "#             print(\"City not found. Skipping...\")\n",
    "#     except:\n",
    "#         print(\"Unknown exception...\")\n",
    "#         pass\n",
    "    \n",
    "        \n",
    "# print(\"-----------------------------\")\n",
    "# print(\"Data Retrieval Complete\")      \n",
    "# print(\"-----------------------------\")"
   ]
  },
  {
   "cell_type": "code",
   "execution_count": 53,
   "metadata": {},
   "outputs": [
    {
     "data": {
      "text/plain": [
       "City          563\n",
       "Cloudiness    563\n",
       "Country       563\n",
       "Date          563\n",
       "Humidity      563\n",
       "Lat           563\n",
       "Lng           563\n",
       "Max Temp      563\n",
       "Wind Speed    563\n",
       "dtype: int64"
      ]
     },
     "execution_count": 53,
     "metadata": {},
     "output_type": "execute_result"
    }
   ],
   "source": [
    "city_list = []\n",
    "cloud_list = []\n",
    "country_list = []\n",
    "date_list = []\n",
    "humidity_list = []\n",
    "lat_list = []\n",
    "lng_list = []\n",
    "maxtemp_list = []\n",
    "windspeed_list = []\n",
    "\n",
    "for weather in weather_list:\n",
    "    city_list.append(weather['name'])\n",
    "    cloud_list.append(weather['clouds']['all'])\n",
    "    country_list.append(weather['sys']['country'])\n",
    "    date_list.append(weather['dt'])\n",
    "    humidity_list.append(weather['main']['humidity'])\n",
    "    lat_list.append(weather['coord']['lat'])\n",
    "    lng_list.append(weather['coord']['lon'])\n",
    "    maxtemp_list.append(weather['main']['temp_max'])\n",
    "    windspeed_list.append(weather['wind']['speed'])\n",
    "    \n",
    "weather_df = pd.DataFrame({\"City\":city_list,\n",
    "                           \"Cloudiness\":cloud_list,\n",
    "                           \"Country\":country_list,\n",
    "                           \"Date\":date_list,\n",
    "                           \"Humidity\":humidity_list,\n",
    "                           \"Lat\":lat_list,\n",
    "                           \"Lng\":lng_list,\n",
    "                           \"Max Temp\":maxtemp_list,\n",
    "                           \"Wind Speed\":windspeed_list})\n",
    "weather_df.count()"
   ]
  },
  {
   "cell_type": "code",
   "execution_count": 54,
   "metadata": {},
   "outputs": [
    {
     "data": {
      "text/html": [
       "<div>\n",
       "<style scoped>\n",
       "    .dataframe tbody tr th:only-of-type {\n",
       "        vertical-align: middle;\n",
       "    }\n",
       "\n",
       "    .dataframe tbody tr th {\n",
       "        vertical-align: top;\n",
       "    }\n",
       "\n",
       "    .dataframe thead th {\n",
       "        text-align: right;\n",
       "    }\n",
       "</style>\n",
       "<table border=\"1\" class=\"dataframe\">\n",
       "  <thead>\n",
       "    <tr style=\"text-align: right;\">\n",
       "      <th></th>\n",
       "      <th>City</th>\n",
       "      <th>Cloudiness</th>\n",
       "      <th>Country</th>\n",
       "      <th>Date</th>\n",
       "      <th>Humidity</th>\n",
       "      <th>Lat</th>\n",
       "      <th>Lng</th>\n",
       "      <th>Max Temp</th>\n",
       "      <th>Wind Speed</th>\n",
       "    </tr>\n",
       "  </thead>\n",
       "  <tbody>\n",
       "    <tr>\n",
       "      <th>0</th>\n",
       "      <td>Port Blair</td>\n",
       "      <td>0</td>\n",
       "      <td>IN</td>\n",
       "      <td>1553302796</td>\n",
       "      <td>100</td>\n",
       "      <td>11.67</td>\n",
       "      <td>92.75</td>\n",
       "      <td>81.98</td>\n",
       "      <td>8.19</td>\n",
       "    </tr>\n",
       "    <tr>\n",
       "      <th>1</th>\n",
       "      <td>Aiquile</td>\n",
       "      <td>88</td>\n",
       "      <td>BO</td>\n",
       "      <td>1553302796</td>\n",
       "      <td>86</td>\n",
       "      <td>-18.20</td>\n",
       "      <td>-65.18</td>\n",
       "      <td>57.50</td>\n",
       "      <td>2.71</td>\n",
       "    </tr>\n",
       "    <tr>\n",
       "      <th>2</th>\n",
       "      <td>Dalby</td>\n",
       "      <td>12</td>\n",
       "      <td>AU</td>\n",
       "      <td>1553302233</td>\n",
       "      <td>65</td>\n",
       "      <td>-27.18</td>\n",
       "      <td>151.26</td>\n",
       "      <td>88.00</td>\n",
       "      <td>6.93</td>\n",
       "    </tr>\n",
       "    <tr>\n",
       "      <th>3</th>\n",
       "      <td>Port Alfred</td>\n",
       "      <td>44</td>\n",
       "      <td>ZA</td>\n",
       "      <td>1553302541</td>\n",
       "      <td>95</td>\n",
       "      <td>-33.59</td>\n",
       "      <td>26.89</td>\n",
       "      <td>66.99</td>\n",
       "      <td>11.99</td>\n",
       "    </tr>\n",
       "    <tr>\n",
       "      <th>4</th>\n",
       "      <td>Humaita</td>\n",
       "      <td>90</td>\n",
       "      <td>AR</td>\n",
       "      <td>1553299200</td>\n",
       "      <td>82</td>\n",
       "      <td>-24.93</td>\n",
       "      <td>-65.37</td>\n",
       "      <td>62.60</td>\n",
       "      <td>3.36</td>\n",
       "    </tr>\n",
       "  </tbody>\n",
       "</table>\n",
       "</div>"
      ],
      "text/plain": [
       "          City  Cloudiness Country        Date  Humidity    Lat     Lng  \\\n",
       "0   Port Blair           0      IN  1553302796       100  11.67   92.75   \n",
       "1      Aiquile          88      BO  1553302796        86 -18.20  -65.18   \n",
       "2        Dalby          12      AU  1553302233        65 -27.18  151.26   \n",
       "3  Port Alfred          44      ZA  1553302541        95 -33.59   26.89   \n",
       "4      Humaita          90      AR  1553299200        82 -24.93  -65.37   \n",
       "\n",
       "   Max Temp  Wind Speed  \n",
       "0     81.98        8.19  \n",
       "1     57.50        2.71  \n",
       "2     88.00        6.93  \n",
       "3     66.99       11.99  \n",
       "4     62.60        3.36  "
      ]
     },
     "execution_count": 54,
     "metadata": {},
     "output_type": "execute_result"
    }
   ],
   "source": [
    "weather_df.to_csv(output_data_file)\n",
    "weather_df.head()"
   ]
  },
  {
   "cell_type": "code",
   "execution_count": null,
   "metadata": {},
   "outputs": [],
   "source": []
  },
  {
   "cell_type": "markdown",
   "metadata": {},
   "source": [
    "### Plotting the Data\n",
    "* Use proper labeling of the plots using plot titles (including date of analysis) and axes labels.\n",
    "* Save the plotted figures as .pngs."
   ]
  },
  {
   "cell_type": "markdown",
   "metadata": {},
   "source": [
    "#### Latitude vs. Temperature Plot"
   ]
  },
  {
   "cell_type": "code",
   "execution_count": null,
   "metadata": {},
   "outputs": [],
   "source": []
  },
  {
   "cell_type": "code",
   "execution_count": 55,
   "metadata": {
    "scrolled": true
   },
   "outputs": [
    {
     "data": {
      "text/plain": [
       "Text(0.5, 1.0, 'City Latitude vs. Max Temperature (03/23/19)')"
      ]
     },
     "execution_count": 55,
     "metadata": {},
     "output_type": "execute_result"
    },
    {
     "data": {
      "image/png": "[encoded data removed]",
      "text/plain": [
       "<Figure size 432x288 with 1 Axes>"
      ]
     },
     "metadata": {
      "needs_background": "light"
     },
     "output_type": "display_data"
    }
   ],
   "source": [
    "ts = time.gmtime()\n",
    "today_date = time.strftime(\"%x\", ts)\n",
    "chart1 = plt.scatter(weather_df['Lat'], weather_df['Max Temp'], marker=\"o\", \n",
    "            facecolors=\"xkcd:azure\", edgecolors=\"black\",\n",
    "            s=40, alpha=0.75)\n",
    "\n",
    "plt.grid()\n",
    "plt.xlabel('Latitude')\n",
    "plt.ylabel('Max Temperature (F)')\n",
    "plt.title(f\"City Latitude vs. Max Temperature ({today_date})\")"
   ]
  },
  {
   "cell_type": "code",
   "execution_count": null,
   "metadata": {},
   "outputs": [],
   "source": []
  }
 ],
 "metadata": {
  "anaconda-cloud": {},
  "kernel_info": {
   "name": "python3"
  },
  "kernelspec": {
   "display_name": "Python 3",
   "language": "python",
   "name": "python3"
  },
  "language_info": {
   "codemirror_mode": {
    "name": "ipython",
    "version": 3
   },
   "file_extension": ".py",
   "mimetype": "text/x-python",
   "name": "python",
   "nbconvert_exporter": "python",
   "pygments_lexer": "ipython3",
   "version": "3.7.1"
  },
  "nteract": {
   "version": "0.12.3"
  }
 },
 "nbformat": 4,
 "nbformat_minor": 2
}
