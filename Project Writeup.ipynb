{
 "cells": [
  {
   "cell_type": "markdown",
   "metadata": {},
   "source": [
    "# Team 1 Project 1\n",
    "\n"
   ]
  },
  {
   "cell_type": "markdown",
   "metadata": {},
   "source": [
    "# 1) Introduction\n",
    "We wanted to see if there is a relationship between high school drop-out rate and crime and how this relationship is affected by the safety of the city. \n",
    "Before looking at data we planned on looking at 2 cities with multiple years of data.\n",
    "After trying to find data sources we decided to use the top 4 safest and most dangerous cities. \n"
   ]
  },
  {
   "cell_type": "markdown",
   "metadata": {},
   "source": [
    "# 2) Description of data and technology used\n",
    "We struggled with data at the begining but we found the \n",
    "ATTOM Developer Platform - https://api.developer.attomdata.com/\n",
    "The starting point was the Violent Crimes city list\n",
    "    Start: List of cities:     \n",
    "    ViolentCrime2017.csv list was pulled from < WHERE DID WE GET THIS FROM>\n",
    "    AREA API\n",
    "        base_url =\"https://search.onboard-apis.com/areaapi/v2.0.0/state/lookup\"\n",
    "        city_url =\"https://search.onboard-apis.com/areaapi/v2.0.0/geoid/lookup/?geoId=\"+???+\"&GeoType=??\" \n",
    "    COMMUNITY API\n",
    "        base_url=\"https://search.onboard-apis.com/communityapi/v2.0.0/area/full?AreaId=??\"\n",
    "        sch_url=\"https://search.onboard-apis.com/propertyapi/v1.0.0/school/snapshot?latitude\"    \n",
    "    PROPERTY API\n",
    "        sch_url=\"https://search.onboard-apis.com/propertyapi/v1.0.0/school/detail?id=\"+school_id\n",
    "    SOCDATA\n",
    "        base_url = 'https://odn.data.socrata.com/resource/8apn-rhyh.json?\n",
    "\n",
    "\n",
    "    "
   ]
  },
  {
   "cell_type": "code",
   "execution_count": 4,
   "metadata": {},
   "outputs": [
    {
     "data": {
      "image/png": "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\n",
      "text/plain": [
       "<IPython.core.display.Image object>"
      ]
     },
     "execution_count": 4,
     "metadata": {},
     "output_type": "execute_result"
    }
   ],
   "source": [
    "<Edit ER Diagram link city Violent city to AreaCity Name\n",
    "Fix geocode link on city to community to city geocode\n",
    ">\n",
    "from IPython.display import Image\n",
    "Image(filename='ERDia.png') "
   ]
  },
  {
   "cell_type": "markdown",
   "metadata": {},
   "source": [
    "### 3) Methodology\n",
    "Is there a correlation between student/teacher ratios and high school dropout rates?\n",
    "Is there a correlation between the high school dropout rate and crime in the area? \n",
    "Is there a correlation between high school dropout rates and the prison population or juvenile arrests? \n"
   ]
  },
  {
   "cell_type": "markdown",
   "metadata": {},
   "source": [
<<<<<<< HEAD
    "#### 4) Results/Output\n",
    "under certain conditions, we successfully rejected the null hypothesis.\n",
    "Here are the conditions: \n",
    "1.low total crime risk cities (cities with total crime risk <=60, sample size: 34), \n",
    "there is a positive relationship between student teacher ratio and total crime risk\n",
    "2.for high assault risk cities (cities with assault risk >=160, sample size: 42), \n",
    "there is a negative relationship between student teacher ratio and assault risk\n",
    "3. for high assault risk cities (cities with assault risk >=160, sample size: 42), \n",
    "there is a positive relationship between percent of high school graduate or higher and assault risk\n",
    "The above three are where we found significant p value of the regression coefficients\n",
    "The above three are using models with only one predictors"
=======
    "\n"

>>>>>>> cb64a8ca166dea21d8333c8dfed54309767b8f1c
   ]
  },
  {
   "cell_type": "markdown",
   "metadata": {},
   "source": [
<<<<<<< HEAD
    "###### 5) Limitations of data and analysis\n",
    "We did not find a source of data that included all components needed for the analysis. \n",
    "Some of the data was collected monthly, quarterly or yearly so we had to pass on sources because they\n",
    "wouldn't align correctly. We used high school and above education rate instead of drop out rate because we could not find a free source of date for 2017, most of the dropout rate data readily available stopped at 2014.\n",
    "\n"
=======

    "5) Limitations of data and analysis\n",
    "\n"

>>>>>>> cb64a8ca166dea21d8333c8dfed54309767b8f1c
   ]
  },
  {
   "cell_type": "code",
   "execution_count": null,
   "metadata": {},
   "outputs": [],
   "source": [
    "6) Conclusions/Recommendations\n",
    "Looking at the all the selected cites at once did not show a correlation between total crime rate and \n",
    "student/teacher ratio. When the top safest city and the top most dangerous city were analyzed seperatly \n",
    "there was a correlation\n"
   ]
  },
  {
   "cell_type": "code",
   "execution_count": null,
   "metadata": {},
   "outputs": [],
   "source": [
    "7) Appendix of All Vizzes"
   ]
  }
 ],
 "metadata": {
  "kernelspec": {
   "display_name": "Python [conda env:PythonData]",
   "language": "python",
   "name": "conda-env-PythonData-py"
  },
  "language_info": {
   "codemirror_mode": {
    "name": "ipython",
    "version": 3
   },
   "file_extension": ".py",
   "mimetype": "text/x-python",
   "name": "python",
   "nbconvert_exporter": "python",
   "pygments_lexer": "ipython3",
   "version": "3.6.7"
  }
 },
 "nbformat": 4,
 "nbformat_minor": 2
}
